{
 "cells": [
  {
   "cell_type": "code",
   "execution_count": 2,
   "metadata": {},
   "outputs": [],
   "source": [
    "import csv\n",
    "\n",
    "def compare_csv_files(file1, file2, output_file):\n",
    "    with open(file1, 'r') as f1, open(file2, 'r') as f2, open(output_file, 'w', newline='') as output:\n",
    "        reader1 = csv.reader(f1)\n",
    "        reader2 = csv.reader(f2)\n",
    "        writer = csv.writer(output)\n",
    "\n",
    "        header_row1 = next(reader1)  # Get the header row of file1\n",
    "        header_row2 = next(reader2)  # Get the header row of file2\n",
    "\n",
    "        column_name1 = header_row1[0] if header_row1 else \"File 1 Column Name\"\n",
    "        column_name2 = header_row2[0] if header_row2 else \"File 2 Column Name\"\n",
    "\n",
    "        writer.writerow([\"Row Number\", column_name1, column_name2])\n",
    "\n",
    "        for row_number, (row1, row2) in enumerate(zip(reader1, reader2), start=1):\n",
    "            if len(row1) > 0 and len(row2) > 0:\n",
    "                value1 = row1[0].strip()  # Remove leading/trailing whitespace\n",
    "                value2 = row2[0].strip()  # Remove leading/trailing whitespace\n",
    "                if value1 != value2:\n",
    "                    writer.writerow([row_number, value1, value2])\n",
    "\n",
    "# Usage example\n",
    "file1 = r'C:\\Users\\hthakur2\\OneDrive - Teck Resources Limited\\Documents\\Value checks\\test_data.csv'\n",
    "file2 = r'C:\\Users\\hthakur2\\OneDrive - Teck Resources Limited\\Documents\\Value checks\\target_data.csv'\n",
    "output_file = r'C:\\Users\\hthakur2\\OneDrive - Teck Resources Limited\\Documents\\Value checks\\output.csv'\n",
    "compare_csv_files(file1, file2, output_file)\n"
   ]
  },
  {
   "cell_type": "code",
   "execution_count": 4,
   "metadata": {},
   "outputs": [
    {
     "name": "stdout",
     "output_type": "stream",
     "text": [
      "   Row Number | PLUSGLEGACYTAG   | Target_Data\n",
      "--------------+------------------+-----------------\n",
      "            5 | 00-05C           | 00-05Cgh\n",
      "            8 | 21270            | 1221270\n",
      "           41 | 2-Jan            | 15/2/2023\n",
      "           44 | 5-Jan            | 8-Jan\n",
      "           72 | 0210-CNH-015     | 0210-CNH-015g56\n",
      "          113 | 5301             | 235301\n",
      "        16196 | PIT-51163        | PIT-5116568\n",
      "        17239 | SITEWATER590     | SITEWATER590456\n",
      "        17271 | SS1-BLD          | SS1-BLDerty\n"
     ]
    }
   ],
   "source": [
    "import csv\n",
    "from tabulate import tabulate\n",
    "\n",
    "def compare_csv_files(file1, file2):\n",
    "    with open(file1, 'r', encoding='utf-8-sig') as f1, open(file2, 'r') as f2:\n",
    "        reader1 = csv.reader(f1)\n",
    "        reader2 = csv.reader(f2)\n",
    "\n",
    "        header_row1 = next(reader1)  # Get the header row of file1\n",
    "        header_row2 = next(reader2)  # Get the header row of file2\n",
    "\n",
    "        column_name1 = header_row1[0] if header_row1 else \"File 1 Column Name\"\n",
    "        column_name2 = header_row2[0] if header_row2 else \"File 2 Column Name\"\n",
    "\n",
    "        data = []\n",
    "        for row_number, (row1, row2) in enumerate(zip(reader1, reader2), start=1):\n",
    "            if len(row1) > 0 and len(row2) > 0:\n",
    "                value1 = row1[0].strip()  # Remove leading/trailing whitespace\n",
    "                value2 = row2[0].strip()  # Remove leading/trailing whitespace\n",
    "                if value1 != value2:\n",
    "                    data.append([row_number, value1, value2])\n",
    "\n",
    "        table = tabulate(data, headers=[\"Row Number\", column_name1, column_name2], tablefmt=\"presto\")\n",
    "        print(table)\n",
    "\n",
    "# Usage example\n",
    "file1 = r'C:\\Users\\hthakur2\\OneDrive - Teck Resources Limited\\Documents\\Value checks\\test_data.csv'\n",
    "file2 = r'C:\\Users\\hthakur2\\OneDrive - Teck Resources Limited\\Documents\\Value checks\\target_data.csv'\n",
    "compare_csv_files(file1, file2)\n"
   ]
  }
 ],
 "metadata": {
  "kernelspec": {
   "display_name": "Python 3",
   "language": "python",
   "name": "python3"
  },
  "language_info": {
   "codemirror_mode": {
    "name": "ipython",
    "version": 3
   },
   "file_extension": ".py",
   "mimetype": "text/x-python",
   "name": "python",
   "nbconvert_exporter": "python",
   "pygments_lexer": "ipython3",
   "version": "3.10.11"
  },
  "orig_nbformat": 4
 },
 "nbformat": 4,
 "nbformat_minor": 2
}
